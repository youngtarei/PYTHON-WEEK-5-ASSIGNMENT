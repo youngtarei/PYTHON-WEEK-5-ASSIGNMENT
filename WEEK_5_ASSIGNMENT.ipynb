{
  "nbformat": 4,
  "nbformat_minor": 0,
  "metadata": {
    "colab": {
      "provenance": [],
      "authorship_tag": "ABX9TyN5StCbpjYwzMJ0T5evOEJw"
    },
    "kernelspec": {
      "name": "python3",
      "display_name": "Python 3"
    },
    "language_info": {
      "name": "python"
    }
  },
  "cells": [
    {
      "cell_type": "code",
      "execution_count": 4,
      "metadata": {
        "id": "hIbP3khoi6h6"
      },
      "outputs": [],
      "source": [
        "class MusicalInstrument:\n",
        "    def __init__(self, name, material, year_made):\n",
        "        self.name = name\n",
        "        self.material = material\n",
        "        self.year_made = year_made\n",
        "        self._condition = \"Good\"  # encapsulated attribute\n",
        "\n",
        "    def play(self):\n",
        "        return f\"Playing the {self.name}\"\n",
        "\n",
        "    def get_info(self):\n",
        "        return f\"{self.name} made of {self.material} in {self.year_made}\"\n",
        "\n",
        "    def get_condition(self):\n",
        "        return self._condition\n",
        "\n",
        "    def set_condition(self, condition):\n",
        "        if condition in [\"Excellent\", \"Good\", \"Fair\", \"Poor\"]:\n",
        "            self._condition = condition\n",
        "        else:\n",
        "            print(\"Invalid condition. Use 'Excellent', 'Good', 'Fair', or 'Poor'\")\n",
        "\n",
        "\n",
        "class StringInstrument(MusicalInstrument):\n",
        "    def __init__(self, name, material, year_made, string_count, string_type):\n",
        "        super().__init__(name, material, year_made)\n",
        "        self.string_count = string_count\n",
        "        self.string_type = string_type\n",
        "\n",
        "    def play(self):\n",
        "        return f\"Strumming the {self.string_count} strings on the {self.name}\"\n",
        "\n",
        "    def tune(self):\n",
        "        return f\"Tuning the {self.string_count} {self.string_type} strings\"\n",
        "\n",
        "\n",
        "class WindInstrument(MusicalInstrument):\n",
        "    def __init__(self, name, material, year_made, wind_type):\n",
        "        super().__init__(name, material, year_made)\n",
        "        self.wind_type = wind_type  # woodwind or brass\n",
        "\n",
        "    def play(self):\n",
        "        if self.wind_type == \"woodwind\":\n",
        "            return f\"Blowing into the reed of the {self.name}\"\n",
        "        else:\n",
        "            return f\"Buzzing lips into the mouthpiece of the {self.name}\"\n",
        "\n",
        "    def clean(self):\n",
        "        return f\"Cleaning the {self.wind_type} {self.name}\"\n",
        "\n",
        "\n",
        "class PercussionInstrument(MusicalInstrument):\n",
        "    def __init__(self, name, material, year_made, percussion_type):\n",
        "        super().__init__(name, material, year_made)\n",
        "        self.percussion_type = percussion_type  # pitched or unpitched\n",
        "\n",
        "    def play(self):\n",
        "        return f\"Striking the {self.name}\"\n",
        "\n",
        "    def adjust_tension(self):\n",
        "        if \"drum\" in self.name.lower():\n",
        "            return f\"Adjusting the tension on the {self.name}\"\n",
        "        return f\"No tension adjustment needed for {self.name}\""
      ]
    }
  ]
}